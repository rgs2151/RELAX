{
 "cells": [
  {
   "cell_type": "code",
   "execution_count": 2,
   "metadata": {},
   "outputs": [],
   "source": [
    "from relax import *\n",
    "from utils import *"
   ]
  },
  {
   "cell_type": "code",
   "execution_count": 6,
   "metadata": {},
   "outputs": [],
   "source": [
    "def train_and_test( seed=42, \n",
    "                    n_agents=2,\n",
    "                    grid_size=(5,5),\n",
    "                    target_reward=20,\n",
    "                    together_reward=0,\n",
    "                    travel_reward=-1,\n",
    "                    num_steps=1_000_000,\n",
    "                    epsilon_start=0.99,\n",
    "                    epsilon_end=0.1,\n",
    "                    alpha=0.1,\n",
    "                    gamma=0.9): \n",
    "\n",
    "    # Set the random seed for reproducibility.\n",
    "    # random.seed(seed)\n",
    "\n",
    "    # Agents\n",
    "    target_rewards = [target_reward] * n_agents  # Reward for each agent when target is met\n",
    "    agents = [Agent() for _ in range(n_agents)] \n",
    "\n",
    "    # List the environments and train sequentially.\n",
    "    environments = [EnvironmentRegime0, EnvironmentRegime1, EnvironmentRegime2, EnvironmentRegime3]\n",
    "    train_history = []\n",
    "    test_history = []\n",
    "    for i, e in enumerate(environments):\n",
    "        # Create one environment per regime.\n",
    "        env = e(grid_size, agents, target_rewards, together_reward, travel_reward)\n",
    "        trainer = Trainer(env, epsilon_start, epsilon_end)\n",
    "        train_history.append(trainer.train(num_steps=num_steps, alpha=alpha, gamma=gamma))\n",
    "        test_history.append(trainer.test(num_steps=100_000))\n",
    "    return train_history, test_history"
   ]
  },
  {
   "cell_type": "code",
   "execution_count": 7,
   "metadata": {},
   "outputs": [],
   "source": [
    "# Parameters for the grid and rewards\n",
    "grid_size = (5, 5)\n",
    "together_reward = 0      # No bonus if agents are together\n",
    "travel_reward = -1       # Penalty for movement\n",
    "num_steps = 1_000_000\n",
    "epsilon_start = 0.99\n",
    "epsilon_end = 0.4 # 0.4\n",
    "\n",
    "# Training parameters\n",
    "alpha = 0.1 # 0.1 # Learning rate\n",
    "gamma = 0.9\n",
    "n_agents = 2"
   ]
  },
  {
   "cell_type": "code",
   "execution_count": null,
   "metadata": {},
   "outputs": [],
   "source": [
    "\n",
    "# seeds = list(range(10))\n",
    "# results = Parallel(n_jobs=-1)(delayed(train_and_test)(seed=s) for s in seeds)\n",
    "\n",
    "# for seed, result in tqdm(zip(seeds, results)):\n",
    "#     train_history, test_history = result\n",
    "#     # with open(f\"agents_{seed}.pkl\", \"wb\") as f:\n",
    "#     #     pickle.dump(agents, f)\n",
    "#     # write_history_to_csv(train_history, csv_filename=f\"pc/train_history_data_{seed}.csv\")\n",
    "#     # write_history_to_csv(test_history, csv_filename=f\"pc/test_history_data_{seed}.csv\")\n",
    "    "
   ]
  },
  {
   "cell_type": "code",
   "execution_count": null,
   "metadata": {},
   "outputs": [],
   "source": []
  },
  {
   "cell_type": "code",
   "execution_count": null,
   "metadata": {},
   "outputs": [],
   "source": []
  },
  {
   "cell_type": "code",
   "execution_count": null,
   "metadata": {},
   "outputs": [],
   "source": []
  }
 ],
 "metadata": {
  "kernelspec": {
   "display_name": "relax",
   "language": "python",
   "name": "python3"
  },
  "language_info": {
   "codemirror_mode": {
    "name": "ipython",
    "version": 3
   },
   "file_extension": ".py",
   "mimetype": "text/x-python",
   "name": "python",
   "nbconvert_exporter": "python",
   "pygments_lexer": "ipython3",
   "version": "3.12.9"
  }
 },
 "nbformat": 4,
 "nbformat_minor": 2
}
